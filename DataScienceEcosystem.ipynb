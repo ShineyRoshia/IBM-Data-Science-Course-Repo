{
  "nbformat": 4,
  "nbformat_minor": 0,
  "metadata": {
    "colab": {
      "provenance": [],
      "authorship_tag": "ABX9TyMz3onP0k5nrEPqQavqSp8e",
      "include_colab_link": true
    },
    "kernelspec": {
      "name": "python3",
      "display_name": "Python 3"
    },
    "language_info": {
      "name": "python"
    }
  },
  "cells": [
    {
      "cell_type": "markdown",
      "metadata": {
        "id": "view-in-github",
        "colab_type": "text"
      },
      "source": [
        "<a href=\"https://colab.research.google.com/github/ShineyRoshia/IBM-Data-Science-Course-Repo/blob/Assignments/DataScienceEcosystem.ipynb\" target=\"_parent\"><img src=\"https://colab.research.google.com/assets/colab-badge.svg\" alt=\"Open In Colab\"/></a>"
      ]
    },
    {
      "cell_type": "markdown",
      "source": [
        "# Data Science Tools and Ecosystem"
      ],
      "metadata": {
        "id": "9KWEbXAqxlS_"
      }
    },
    {
      "cell_type": "markdown",
      "source": [
        "##### In this notebook, Data Science Tools and Ecosystem are summarized"
      ],
      "metadata": {
        "id": "J4yZkoW5yoIJ"
      }
    },
    {
      "cell_type": "markdown",
      "source": [
        "**Objectives:**\n",
        "* Listing The popular Languages used in Data Science\n",
        "* Commonly used Libraries\n",
        "* Datascience Tools\n",
        "\n"
      ],
      "metadata": {
        "id": "HjRtJ-Wi7gLE"
      }
    },
    {
      "cell_type": "markdown",
      "source": [
        "###### Some of the popular languages that Data Scientists use are:\n",
        "1. Python\n",
        "2. R\n",
        "3. C++\n",
        "\n",
        "\n",
        "\n",
        "\n",
        "###### Some of the commonly used libraries used by Data Scientists include:\n",
        "\n",
        "1.  Numpy\n",
        "2.  Pandas\n",
        "3.  Matplotlib\n",
        "\n"
      ],
      "metadata": {
        "id": "uvHggbCIzMIW"
      }
    },
    {
      "cell_type": "markdown",
      "source": [
        "#### Data Science Tools\n",
        "\n",
        "| Data Science Tools |\n",
        "|--------------------|\n",
        "|Jupyter Notebook|\n",
        "|R Studio|\n",
        "|Visual Studio Code|\n",
        "\n"
      ],
      "metadata": {
        "id": "8ZVgUkzt1PxG"
      }
    },
    {
      "cell_type": "markdown",
      "source": [
        "### Below are a few examples of evaluating arithmetic expressions in Python.\n",
        "\n",
        "#### This a simple arithmetic expression to mutiply then add integers\n",
        "\n",
        "`(3*4)+5`\n",
        "\n",
        "\n"
      ],
      "metadata": {
        "id": "KTHOG-qd4erG"
      }
    },
    {
      "cell_type": "code",
      "source": [
        "(3*4)+5"
      ],
      "metadata": {
        "colab": {
          "base_uri": "https://localhost:8080/"
        },
        "id": "Kl6lWB_J5_Kt",
        "outputId": "574a8ce5-c310-4121-f015-beadd78dce32"
      },
      "execution_count": 6,
      "outputs": [
        {
          "output_type": "execute_result",
          "data": {
            "text/plain": [
              "17"
            ]
          },
          "metadata": {},
          "execution_count": 6
        }
      ]
    },
    {
      "cell_type": "code",
      "source": [
        "# This will convert 200 minutes to hours by diving by 60\n",
        "mins = 200\n",
        "Hours = 200/60\n",
        "Hours\n"
      ],
      "metadata": {
        "colab": {
          "base_uri": "https://localhost:8080/"
        },
        "id": "Y-jdxVBu6mwc",
        "outputId": "bc47c9cc-778f-4501-f0fb-f69cb212ab9f"
      },
      "execution_count": 8,
      "outputs": [
        {
          "output_type": "execute_result",
          "data": {
            "text/plain": [
              "3.3333333333333335"
            ]
          },
          "metadata": {},
          "execution_count": 8
        }
      ]
    },
    {
      "cell_type": "markdown",
      "source": [
        "## Author\n",
        "Shiney\n"
      ],
      "metadata": {
        "id": "ZoCcyiYx-Cnu"
      }
    },
    {
      "cell_type": "markdown",
      "source": [],
      "metadata": {
        "id": "uidU0Zf6-i_0"
      }
    }
  ]
}